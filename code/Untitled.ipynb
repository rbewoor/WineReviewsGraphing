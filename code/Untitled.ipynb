{
 "cells": [
  {
   "cell_type": "code",
   "execution_count": 3,
   "id": "f9b95343",
   "metadata": {},
   "outputs": [],
   "source": [
    "import os"
   ]
  },
  {
   "cell_type": "code",
   "execution_count": 8,
   "id": "265bc28e",
   "metadata": {},
   "outputs": [
    {
     "name": "stdout",
     "output_type": "stream",
     "text": [
      "/home/rohit/PyWDUbuntu/generic/dockerUseCase2/code\n"
     ]
    }
   ],
   "source": [
    "HOME = os.getcwd()\n",
    "print(HOME)"
   ]
  },
  {
   "cell_type": "code",
   "execution_count": 18,
   "id": "7592d4d3",
   "metadata": {},
   "outputs": [
    {
     "name": "stdout",
     "output_type": "stream",
     "text": [
      "/home/rohit/PyWDUbuntu/generic/dockerUseCase2/code/inData/\n"
     ]
    }
   ],
   "source": [
    "OUT_DIR = os.path.join(HOME, 'inData') + r'/'\n",
    "print(OUT_DIR)\n",
    "#if os.path.exists(HOME + r)"
   ]
  },
  {
   "cell_type": "code",
   "execution_count": 23,
   "id": "de260cc4",
   "metadata": {},
   "outputs": [
    {
     "name": "stdout",
     "output_type": "stream",
     "text": [
      "Dir does not exist...creating it.\n",
      "Dir created.\n"
     ]
    }
   ],
   "source": [
    "if not os.path.exists(OUT_DIR):\n",
    "    print(f\"Dir does not exist...creating it.\")\n",
    "    os.mkdir(OUT_DIR)\n",
    "    print(f\"Dir created.\")\n",
    "else:\n",
    "    print(f\"Dir already exists.\")"
   ]
  },
  {
   "cell_type": "code",
   "execution_count": null,
   "id": "161f7998",
   "metadata": {},
   "outputs": [],
   "source": []
  },
  {
   "cell_type": "code",
   "execution_count": 1,
   "id": "633dc783",
   "metadata": {},
   "outputs": [
    {
     "name": "stdout",
     "output_type": "stream",
     "text": [
      "['wood', 'oak', 'spices', 'spice', 'pepper', 'blackberry', 'hicoky', 'cigar', 'menthol', 'smoky', 'forest', 'raspberry', 'berry', 'berries', 'currant', 'currants', 'licorice', 'coconut', 'leather', 'coconut', 'plum', 'chocolate', 'orange', 'honey', 'gooseberry', 'fruit', 'fruity', 'strawberry', 'cherry', 'oily', 'coffee', 'expresso', 'cranberry', 'pineapple', 'tangerine', 'testflavor1', 'testflavor2', 'testflavor3', 'testflavor4', '']\n"
     ]
    }
   ],
   "source": [
    "abc = 'wood,oak,spices,spice,pepper,blackberry,hicoky,cigar,menthol,smoky,forest,raspberry,berry,berries,currant,currants,licorice,coconut,leather,coconut,plum,chocolate,orange,honey,gooseberry,fruit,fruity,strawberry,cherry,oily,coffee,expresso,cranberry,pineapple,tangerine,testflavor1,testflavor2,testflavor3,testflavor4,'\n",
    "abc = abc.split(',')\n",
    "print(abc)"
   ]
  },
  {
   "cell_type": "code",
   "execution_count": null,
   "id": "b67e044f",
   "metadata": {},
   "outputs": [],
   "source": []
  },
  {
   "cell_type": "code",
   "execution_count": 4,
   "id": "7fba4fe5",
   "metadata": {},
   "outputs": [],
   "source": [
    "HOME = os.getcwd()\n",
    "IP_DIR = os.path.join(HOME, 'inData') + r'/' ## where the individual files have already been saved\n",
    "OUT_DIR = os.path.join(HOME, 'temp') + r'/' ## "
   ]
  },
  {
   "cell_type": "code",
   "execution_count": 8,
   "id": "e38b6837",
   "metadata": {},
   "outputs": [],
   "source": [
    "IP_DIR = OUT_DIR"
   ]
  },
  {
   "cell_type": "code",
   "execution_count": 9,
   "id": "cac04510",
   "metadata": {},
   "outputs": [
    {
     "name": "stdout",
     "output_type": "stream",
     "text": [
      "Input dir found, with num_inp_files = 0\n"
     ]
    },
    {
     "ename": "AssertionError",
     "evalue": "No input files to process",
     "output_type": "error",
     "traceback": [
      "\u001b[0;31m---------------------------------------------------------------------------\u001b[0m",
      "\u001b[0;31mAssertionError\u001b[0m                            Traceback (most recent call last)",
      "\u001b[0;32m/tmp/ipykernel_102217/3047891669.py\u001b[0m in \u001b[0;36m<module>\u001b[0;34m\u001b[0m\n\u001b[1;32m      8\u001b[0m     \u001b[0mnum_inp_files\u001b[0m \u001b[0;34m=\u001b[0m \u001b[0mlen\u001b[0m\u001b[0;34m(\u001b[0m\u001b[0mos\u001b[0m\u001b[0;34m.\u001b[0m\u001b[0mlistdir\u001b[0m\u001b[0;34m(\u001b[0m\u001b[0mIP_DIR\u001b[0m\u001b[0;34m)\u001b[0m\u001b[0;34m)\u001b[0m\u001b[0;34m\u001b[0m\u001b[0;34m\u001b[0m\u001b[0m\n\u001b[1;32m      9\u001b[0m     \u001b[0mprint\u001b[0m\u001b[0;34m(\u001b[0m\u001b[0;34mf\"Input dir found, with num_inp_files = {num_inp_files}\"\u001b[0m\u001b[0;34m)\u001b[0m\u001b[0;34m\u001b[0m\u001b[0;34m\u001b[0m\u001b[0m\n\u001b[0;32m---> 10\u001b[0;31m     \u001b[0;32massert\u001b[0m \u001b[0mnum_inp_files\u001b[0m\u001b[0;34m>\u001b[0m\u001b[0;36m0\u001b[0m\u001b[0;34m,\u001b[0m \u001b[0;34mf\"No input files to process\"\u001b[0m\u001b[0;34m\u001b[0m\u001b[0;34m\u001b[0m\u001b[0m\n\u001b[0m",
      "\u001b[0;31mAssertionError\u001b[0m: No input files to process"
     ]
    }
   ],
   "source": [
    "if not os.path.exists(IP_DIR):\n",
    "    myStr = \"\\n\".join([\n",
    "        f\"\\nFATAL ERROR: Input folder not found: {IP_DIR}\",\n",
    "        f\"EXITING with error code 50\\n\",\n",
    "        ])\n",
    "    print(myStr)\n",
    "else:\n",
    "    num_inp_files = len(os.listdir(IP_DIR))\n",
    "    print(f\"Input dir found, with num_inp_files = {num_inp_files}\")\n",
    "    assert num_inp_files>0, f\"No input files to process\""
   ]
  },
  {
   "cell_type": "code",
   "execution_count": null,
   "id": "353ef60a",
   "metadata": {},
   "outputs": [],
   "source": []
  },
  {
   "cell_type": "markdown",
   "id": "eb16797f",
   "metadata": {},
   "source": [
    "### Testing get review node raw text highest number"
   ]
  },
  {
   "cell_type": "code",
   "execution_count": 1,
   "id": "4db0211d",
   "metadata": {},
   "outputs": [],
   "source": [
    "from py2neo import Graph"
   ]
  },
  {
   "cell_type": "code",
   "execution_count": 2,
   "id": "8ada6c24",
   "metadata": {},
   "outputs": [],
   "source": [
    "def make_neo4j_connection():\n",
    "    \"\"\"\n",
    "    Establish connection to Neo4j and return graph object\n",
    "    \"\"\"\n",
    "    try:\n",
    "        gph = Graph(uri=\"bolt://localhost:7687\",auth=(\"neo4j\",\"abc\"))\n",
    "    except Exception as error_msg_neo_connect:\n",
    "        myStr = \"\\n\".join([\n",
    "            f\"\\nFATAL ERROR: Could not establish connnection to neo4j.\",\n",
    "            f\"Error message :: {error_msg_neo_connect}\",\n",
    "            f\"EXITING with error code 9050\",\n",
    "            ])\n",
    "        my_print_and_log(myStr, \"error\")\n",
    "        exit(9050)\n",
    "    return gph"
   ]
  },
  {
   "cell_type": "code",
   "execution_count": 21,
   "id": "97dbfae9",
   "metadata": {},
   "outputs": [],
   "source": [
    "stmt20_get_raw_text_review_node = r\"MATCH (rn1:Review) WHERE rn1.name STARTS WITH 'f' RETURN rn1.name ORDER BY rn1.name DESC LIMIT 1\""
   ]
  },
  {
   "cell_type": "code",
   "execution_count": 4,
   "id": "3b39ea13",
   "metadata": {},
   "outputs": [],
   "source": [
    "graph = make_neo4j_connection()"
   ]
  },
  {
   "cell_type": "code",
   "execution_count": 7,
   "id": "05fd39f3",
   "metadata": {},
   "outputs": [
    {
     "data": {
      "text/plain": [
       "Graph('bolt://neo4j@localhost:7687', name='neo4j')"
      ]
     },
     "execution_count": 7,
     "metadata": {},
     "output_type": "execute_result"
    }
   ],
   "source": [
    "graph"
   ]
  },
  {
   "cell_type": "code",
   "execution_count": 25,
   "id": "47fbe362",
   "metadata": {},
   "outputs": [
    {
     "name": "stdout",
     "output_type": "stream",
     "text": [
      "\n",
      "1type = <class 'py2neo.database.work.Cursor'>\n",
      "query_ans =\n",
      " rn1.name \r\n",
      "----------\r\n",
      " f0025    \r\n",
      "\n",
      "\n",
      "Query to get raw text review node complete...\n",
      "\n",
      "\n",
      "2type = <class 'list'>\n",
      "query_ans =\n",
      "[Record({'rn1.name': 'f0025'})]\n",
      "\n",
      "6type = <class 'int'>\n",
      "query_ans =\n",
      "25\n"
     ]
    }
   ],
   "source": [
    "query_ans = None\n",
    "try:\n",
    "    tx = graph.begin()\n",
    "    query_ans = tx.run(stmt20_get_raw_text_review_node, parameters={})\n",
    "    print(f\"\\n1type = {type(query_ans)}\")\n",
    "    print(f\"query_ans =\\n{query_ans}\")\n",
    "    tx.commit()\n",
    "    while not tx.finished():\n",
    "        pass # tx.finished return True if the commit is complete\n",
    "    print(f\"\\nQuery to get raw text review node complete...\\n\")\n",
    "    query_ans = list(query_ans)\n",
    "    print(f\"\\n2type = {type(query_ans)}\")\n",
    "    print(f\"query_ans =\\n{query_ans}\")\n",
    "    if query_ans:\n",
    "        query_ans = query_ans[0]['rn1.name']\n",
    "        query_ans = int(query_ans[1:])\n",
    "    else:\n",
    "        query_ans = None\n",
    "    print(f\"\\n6type = {type(query_ans)}\")\n",
    "    print(f\"query_ans =\\n{query_ans}\")\n",
    "except Exception as neo_get_raw_text_review_error:\n",
    "    myStr = \"\\n\".join([\n",
    "        f\"\\nFATAL ERROR: Problem reading neo4j.\",\n",
    "        f\"Error message :: {neo_get_raw_text_review_error}\",\n",
    "        f\"EXITING with error code 130\",\n",
    "        ])\n",
    "    print(myStr)\n",
    "    #exit(120)"
   ]
  },
  {
   "cell_type": "code",
   "execution_count": 35,
   "id": "0d6f5570",
   "metadata": {},
   "outputs": [
    {
     "name": "stdout",
     "output_type": "stream",
     "text": [
      "r0026\n"
     ]
    }
   ],
   "source": [
    "#new_node_name = query_ans\n",
    "new_node_name = 'r' + f\"{query_ans+1:04d}\"\n",
    "print(new_node_name)"
   ]
  },
  {
   "cell_type": "code",
   "execution_count": null,
   "id": "a0e356be",
   "metadata": {},
   "outputs": [],
   "source": []
  },
  {
   "cell_type": "code",
   "execution_count": null,
   "id": "e53b3f8b",
   "metadata": {},
   "outputs": [],
   "source": []
  },
  {
   "cell_type": "code",
   "execution_count": null,
   "id": "1b299f1b",
   "metadata": {},
   "outputs": [],
   "source": []
  },
  {
   "cell_type": "code",
   "execution_count": 10,
   "id": "20610e63",
   "metadata": {},
   "outputs": [],
   "source": [
    "from py2neo import Graph"
   ]
  },
  {
   "cell_type": "code",
   "execution_count": 11,
   "id": "72f56988",
   "metadata": {},
   "outputs": [],
   "source": [
    "def make_neo4j_connection():\n",
    "    \"\"\"\n",
    "    Establish connection to Neo4j and return graph object\n",
    "    \"\"\"\n",
    "    try:\n",
    "        gph = Graph(uri=\"bolt://localhost:7687\",auth=(\"neo4j\",\"abc\"))\n",
    "    except Exception as error_msg_neo_connect:\n",
    "        myStr = \"\\n\".join([\n",
    "            f\"\\nFATAL ERROR: Could not establish connnection to neo4j.\",\n",
    "            f\"Error message :: {error_msg_neo_connect}\",\n",
    "            f\"EXITING with error code 9050\",\n",
    "            ])\n",
    "        my_print_and_log(myStr, \"error\")\n",
    "        exit(9050)\n",
    "    return gph"
   ]
  },
  {
   "cell_type": "code",
   "execution_count": 12,
   "id": "ea30ddb7",
   "metadata": {},
   "outputs": [],
   "source": [
    "stmt0_clear_graph = r'MATCH (n) DETACH DELETE n'\n",
    "stmt3_flav_node = r'MERGE (:Flavor {name: $_in_flav_name})'"
   ]
  },
  {
   "cell_type": "code",
   "execution_count": 13,
   "id": "6bb3e994",
   "metadata": {},
   "outputs": [],
   "source": [
    "neo_entry = dict()\n",
    "neo_entry['Flavors'] = ['flav1', 'flav2']"
   ]
  },
  {
   "cell_type": "code",
   "execution_count": 14,
   "id": "23e09572",
   "metadata": {},
   "outputs": [
    {
     "name": "stdout",
     "output_type": "stream",
     "text": [
      "flav1\n",
      "flav2\n"
     ]
    }
   ],
   "source": [
    "for idx3, flav in enumerate(neo_entry['Flavors']):\n",
    "    print(flav)"
   ]
  },
  {
   "cell_type": "code",
   "execution_count": 15,
   "id": "26d82cd5",
   "metadata": {},
   "outputs": [],
   "source": [
    "graph = make_neo4j_connection()"
   ]
  },
  {
   "cell_type": "code",
   "execution_count": 16,
   "id": "7f6d951c",
   "metadata": {},
   "outputs": [
    {
     "data": {
      "text/plain": [
       "Graph('bolt://neo4j@localhost:7687', name='neo4j')"
      ]
     },
     "execution_count": 16,
     "metadata": {},
     "output_type": "execute_result"
    }
   ],
   "source": [
    "graph"
   ]
  },
  {
   "cell_type": "code",
   "execution_count": 22,
   "id": "d280468e",
   "metadata": {},
   "outputs": [
    {
     "name": "stdout",
     "output_type": "stream",
     "text": [
      "\n",
      "Attempting clearing graph...\n",
      "\n",
      "Cleared the graph\n",
      "\n",
      "Added flavors\n",
      "\n",
      "\n",
      "Done\n"
     ]
    }
   ],
   "source": [
    "try:\n",
    "    tx = graph.begin()\n",
    "    print(f\"\\nAttempting clearing graph...\")\n",
    "    tx.run(stmt0_clear_graph, parameters={})\n",
    "    tx.commit()\n",
    "    while not tx.finished():\n",
    "        pass # tx.finished return True if the commit is complete\n",
    "    print(f\"\\nCleared the graph\")\n",
    "    \n",
    "    # create flavor note if not already existing\n",
    "    tx = graph.begin()\n",
    "    for idx3, flav in enumerate(neo_entry['Flavors']):\n",
    "        tx.run(stmt3_flav_node, parameters={\n",
    "            '_in_flav_name': flav,\n",
    "            })\n",
    "    tx.commit()\n",
    "    while not tx.finished():\n",
    "        pass # tx.finished return True if the commit is complete\n",
    "    print(f\"\\nAdded flavors\")\n",
    "except Exception as neo_update_error:\n",
    "    myStr = \"\\n\".join([\n",
    "        f\"\\nFATAL ERROR: Problem updating neo4j.\",\n",
    "        f\"Error message :: {neo_update_error}\",\n",
    "        f\"EXITING with error code 80\",\n",
    "        ])\n",
    "    print(f\"{myStr}\")\n",
    "print(f\"\\n\\nDone\")"
   ]
  },
  {
   "cell_type": "code",
   "execution_count": null,
   "id": "aa02b790",
   "metadata": {},
   "outputs": [],
   "source": []
  },
  {
   "cell_type": "code",
   "execution_count": 27,
   "id": "337c8e59",
   "metadata": {},
   "outputs": [
    {
     "name": "stdout",
     "output_type": "stream",
     "text": [
      "\n",
      "FATAL ERROR: Invalid value for 'upload_neo_limit' parameter:: 100\n",
      "Only 10 files present in input folder /home/rohit/PyWDUbuntu/generic/dockerUseCase2/code/temp/\n",
      "enter a number from 1 to 10\n",
      "EXITING with error code 40\n",
      "\n"
     ]
    }
   ],
   "source": [
    "num_inp_files = 10\n",
    "LIMIT_UPLOAD_TO_NEO = 100\n",
    "if not (0 < LIMIT_UPLOAD_TO_NEO <= num_inp_files):\n",
    "    myStr = \"\\n\".join([\n",
    "        f\"\\nFATAL ERROR: Invalid value for 'upload_neo_limit' parameter:: {LIMIT_UPLOAD_TO_NEO}\",\n",
    "        f\"Only {num_inp_files} files present in input folder {IP_DIR}\",\n",
    "        f\"enter a number from 1 to {num_inp_files}\",\n",
    "        f\"EXITING with error code 40\\n\",\n",
    "        ])\n",
    "    print(myStr)"
   ]
  },
  {
   "cell_type": "code",
   "execution_count": null,
   "id": "fe029c0f",
   "metadata": {},
   "outputs": [],
   "source": []
  },
  {
   "cell_type": "code",
   "execution_count": 13,
   "id": "bfd067f4",
   "metadata": {},
   "outputs": [],
   "source": [
    "import numpy as np\n",
    "from tqdm import tqdm\n",
    "import time"
   ]
  },
  {
   "cell_type": "code",
   "execution_count": 14,
   "id": "d082027f",
   "metadata": {},
   "outputs": [
    {
     "data": {
      "text/plain": [
       "[10, 13, 14, 18, 15, 18, 10, 18, 19, 15]"
      ]
     },
     "execution_count": 14,
     "metadata": {},
     "output_type": "execute_result"
    }
   ],
   "source": [
    "data = [np.random.randint(10, 20) for i in range(10)]\n",
    "data"
   ]
  },
  {
   "cell_type": "code",
   "execution_count": 26,
   "id": "dd8ce4c5",
   "metadata": {},
   "outputs": [
    {
     "data": {
      "text/plain": [
       "150"
      ]
     },
     "execution_count": 26,
     "metadata": {},
     "output_type": "execute_result"
    }
   ],
   "source": [
    "try:\n",
    "    del sum\n",
    "except Exception as e:\n",
    "    pass\n",
    "sum(data)"
   ]
  },
  {
   "cell_type": "code",
   "execution_count": 27,
   "id": "281a147f",
   "metadata": {},
   "outputs": [
    {
     "name": "stderr",
     "output_type": "stream",
     "text": [
      "Processed: 100%|███████████████████████████████████████████████████████████████████████████████████████████████████████████████████████████████████████████████████████████████████| 10/10 [00:02<00:00,  3.96it/s]\n"
     ]
    }
   ],
   "source": [
    "n_data = len(data)\n",
    "for i in tqdm(range(n_data), desc='Processed'):\n",
    "    time.sleep(0.25)"
   ]
  },
  {
   "cell_type": "code",
   "execution_count": 29,
   "id": "2e749cb3",
   "metadata": {},
   "outputs": [
    {
     "name": "stderr",
     "output_type": "stream",
     "text": [
      "100%|██████████████████████████████████████████████████████████████████████████████████████████████████████████████████████████████████████████████████████████████████████████████| 10/10 [00:02<00:00,  3.96it/s]\n"
     ]
    }
   ],
   "source": [
    "n_data = len(data)\n",
    "for i in tqdm(range(n_data)):\n",
    "    time.sleep(0.25)"
   ]
  },
  {
   "cell_type": "code",
   "execution_count": 30,
   "id": "76c45d66",
   "metadata": {},
   "outputs": [
    {
     "name": "stderr",
     "output_type": "stream",
     "text": [
      "Processed: 100%|███████████████████████████████████████████████████████████████████████████████████████████████████████████████████████████████████████████████████████████████████| 10/10 [00:02<00:00,  3.96it/s]"
     ]
    },
    {
     "name": "stdout",
     "output_type": "stream",
     "text": [
      "\n",
      "total = 45\n"
     ]
    },
    {
     "name": "stderr",
     "output_type": "stream",
     "text": [
      "\n"
     ]
    }
   ],
   "source": [
    "n_data = len(data)\n",
    "ans = 0\n",
    "for idx, d in enumerate(tqdm(range(n_data), desc='Processed')):\n",
    "    time.sleep(0.25)\n",
    "    ans += d\n",
    "print(f\"\\ntotal = {ans}\")"
   ]
  },
  {
   "cell_type": "code",
   "execution_count": 31,
   "id": "197f68dd",
   "metadata": {},
   "outputs": [
    {
     "name": "stderr",
     "output_type": "stream",
     "text": [
      "Processed: 100%|███████████████████████████████████████████████████████████████████████████████████████████████████████████████████████████████████████████████████████████████████| 10/10 [00:02<00:00,  3.96it/s]"
     ]
    },
    {
     "name": "stdout",
     "output_type": "stream",
     "text": [
      "\n",
      "total = 150\n"
     ]
    },
    {
     "name": "stderr",
     "output_type": "stream",
     "text": [
      "\n"
     ]
    }
   ],
   "source": [
    "n_data = len(data)\n",
    "ans = 0\n",
    "for idx, d in enumerate(tqdm(data, desc='Processed')):\n",
    "    time.sleep(0.25)\n",
    "    ans += d\n",
    "print(f\"\\ntotal = {ans}\")"
   ]
  },
  {
   "cell_type": "code",
   "execution_count": null,
   "id": "6284d4a0",
   "metadata": {},
   "outputs": [],
   "source": []
  },
  {
   "cell_type": "code",
   "execution_count": 32,
   "id": "93e15165",
   "metadata": {},
   "outputs": [],
   "source": [
    "def f1(_in=False):\n",
    "    if _in:\n",
    "        return 100, None\n",
    "    else:\n",
    "        return 0, 'No Error'"
   ]
  },
  {
   "cell_type": "code",
   "execution_count": 34,
   "id": "8ce6e93c",
   "metadata": {},
   "outputs": [
    {
     "name": "stdout",
     "output_type": "stream",
     "text": [
      "0 No Error\n",
      "100 None\n"
     ]
    }
   ],
   "source": [
    "v1, v2 = f1()\n",
    "print(v1, v2)\n",
    "v1, v2 = f1(_in=True)\n",
    "print(v1, v2)"
   ]
  },
  {
   "cell_type": "code",
   "execution_count": 35,
   "id": "159effa7",
   "metadata": {},
   "outputs": [
    {
     "name": "stdout",
     "output_type": "stream",
     "text": [
      "0\n",
      "100\n"
     ]
    }
   ],
   "source": [
    "v1, _ = f1()\n",
    "print(v1)\n",
    "v1, _ = f1(_in=True)\n",
    "print(v1)"
   ]
  },
  {
   "cell_type": "code",
   "execution_count": null,
   "id": "66833f7f",
   "metadata": {},
   "outputs": [],
   "source": []
  },
  {
   "cell_type": "markdown",
   "id": "56d12a43",
   "metadata": {},
   "source": [
    "## testing with container graph"
   ]
  },
  {
   "cell_type": "code",
   "execution_count": 1,
   "id": "b90baa67",
   "metadata": {},
   "outputs": [],
   "source": [
    "from py2neo import Graph"
   ]
  },
  {
   "cell_type": "code",
   "execution_count": 34,
   "id": "bf236bc8",
   "metadata": {},
   "outputs": [],
   "source": [
    "## for container\n",
    "def make_neo4j_connection_local():\n",
    "    \"\"\"\n",
    "    Establish connection to Neo4j and return graph object\n",
    "    \"\"\"\n",
    "    gph = None\n",
    "    try:\n",
    "        #failed- neo4j stopped - [Errno 111] Connection refused\n",
    "        #success- neo4j started - Graph('bolt://neo4j@localhost:7687', name='neo4j')\n",
    "        #gph = Graph(uri=\"bolt://localhost:7687\",auth=(\"neo4j\",\"abc\")) # works- Graph('bolt://neo4j@localhost:7687', name='neo4j')\n",
    "\n",
    "        #failed- neo4j stopped - Network read incomplete (received 0 of 2 bytes)\n",
    "        #success- neo4j started - Graph('bolt://neo4j@localhost:7687', name='neo4j')\n",
    "        #gph = Graph(uri=\"http://localhost:7474\",auth=(\"neo4j\",\"abc\")) # works- Graph('bolt://neo4j@localhost:7687', name='neo4j')\n",
    "        \n",
    "        #failed- neo4j stopped - Network read incomplete (received 0 of 2 bytes)\n",
    "        #success- neo4j started - Graph('bolt://neo4j@localhost:7687', name='neo4j')\n",
    "        #gph = Graph(uri=\"bolt://localhost:7474\",auth=(\"neo4j\",\"abc\")) # works- Graph('bolt://neo4j@localhost:7687', name='neo4j')\n",
    "    except Exception as error_msg_neo_connect:\n",
    "        print(f\"Error message: {error_msg_neo_connect}\")\n",
    "    return gph"
   ]
  },
  {
   "cell_type": "code",
   "execution_count": 35,
   "id": "efac8f81",
   "metadata": {},
   "outputs": [
    {
     "name": "stdout",
     "output_type": "stream",
     "text": [
      "Error message: Network read incomplete (received 0 of 2 bytes)\n",
      "None\n"
     ]
    }
   ],
   "source": [
    "print(make_neo4j_connection_local())"
   ]
  },
  {
   "cell_type": "code",
   "execution_count": 22,
   "id": "160674e3",
   "metadata": {},
   "outputs": [],
   "source": [
    "## for container which was started as below\n",
    "## docker run --env NEO4J_AUTH=neo4j/cba -p 8901:7474 neo4j:4.1.0\n",
    "def make_neo4j_connection_container():\n",
    "    \"\"\"\n",
    "    Establish connection to Neo4j and return graph object\n",
    "    \"\"\"\n",
    "    gph = None\n",
    "    try:\n",
    "        #failed- neo4j stopped - [Security.Unauthorized] The client is unauthorized due to authentication failure.\n",
    "        #failed- neo4j started - [Errno 111] Connection refused\n",
    "        gph = Graph(uri=\"bolt://localhost:7687\",auth=(\"neo4j\",\"cba\")) \n",
    "        #failed - neo4j started - [Security.Unauthorized] The client is unauthorized due to authentication failure.\n",
    "        #failed - neo4j stopped - [Errno 111] Connection refused\n",
    "        #gph = Graph(uri=\"bolt://localhost:8901\",auth=(\"neo4j\",\"cba\"))\n",
    "    except Exception as error_msg_neo_connect:\n",
    "        print(f\"Error message: {error_msg_neo_connect}\")\n",
    "    return gph"
   ]
  },
  {
   "cell_type": "code",
   "execution_count": 23,
   "id": "11c920cb",
   "metadata": {
    "scrolled": false
   },
   "outputs": [
    {
     "name": "stdout",
     "output_type": "stream",
     "text": [
      "Error message: [Security.Unauthorized] The client is unauthorized due to authentication failure.\n",
      "None\n"
     ]
    }
   ],
   "source": [
    "print(make_neo4j_connection_container())"
   ]
  },
  {
   "cell_type": "code",
   "execution_count": null,
   "id": "e537bd6a",
   "metadata": {},
   "outputs": [],
   "source": []
  },
  {
   "cell_type": "markdown",
   "id": "a47433da",
   "metadata": {},
   "source": [
    "## check environment variables"
   ]
  },
  {
   "cell_type": "code",
   "execution_count": 2,
   "id": "712f794e",
   "metadata": {},
   "outputs": [],
   "source": [
    "import os"
   ]
  },
  {
   "cell_type": "markdown",
   "id": "2ccc2c7c",
   "metadata": {},
   "source": [
    "#### get all env vars"
   ]
  },
  {
   "cell_type": "code",
   "execution_count": 5,
   "id": "915372e9",
   "metadata": {},
   "outputs": [
    {
     "data": {
      "text/plain": [
       "KeysView(environ({'SHELL': '/bin/bash', 'SESSION_MANAGER': 'local/rohitu2004lts:@/tmp/.ICE-unix/3723,unix/rohitu2004lts:/tmp/.ICE-unix/3723', 'QT_ACCESSIBILITY': '1', 'COLORTERM': 'truecolor', 'XDG_CONFIG_DIRS': '/etc/xdg/xdg-ubuntu:/etc/xdg', 'XDG_MENU_PREFIX': 'gnome-', 'GNOME_DESKTOP_SESSION_ID': 'this-is-deprecated', 'CONDA_EXE': '/home/rohit/anaconda3/bin/conda', '_CE_M': '', 'LC_ADDRESS': 'de_DE.UTF-8', 'GNOME_SHELL_SESSION_MODE': 'ubuntu', 'LC_NAME': 'de_DE.UTF-8', 'SSH_AUTH_SOCK': '/run/user/1000/keyring/ssh', 'XMODIFIERS': '@im=ibus', 'DESKTOP_SESSION': 'ubuntu', 'LC_MONETARY': 'de_DE.UTF-8', 'SSH_AGENT_PID': '3697', 'GTK_MODULES': 'gail:atk-bridge', 'PWD': '/home/rohit/PyWDUbuntu/generic/WineReviewsGraphing/code', 'LOGNAME': 'rohit', 'XDG_SESSION_DESKTOP': 'ubuntu', 'QT_QPA_PLATFORMTHEME': 'gtk2', 'XDG_SESSION_TYPE': 'x11', 'GPG_AGENT_INFO': '/run/user/1000/gnupg/S.gpg-agent:0:1', 'XAUTHORITY': '/run/user/1000/gdm/Xauthority', 'GJS_DEBUG_TOPICS': 'JS ERROR;JS LOG', 'WINDOWPATH': '2', 'HOME': '/home/rohit', 'USERNAME': 'rohit', 'IM_CONFIG_PHASE': '1', 'LC_PAPER': 'de_DE.UTF-8', 'LANG': 'en_US.UTF-8', 'LS_COLORS': 'rs=0:di=01;34:ln=01;36:mh=00:pi=40;33:so=01;35:do=01;35:bd=40;33;01:cd=40;33;01:or=40;31;01:mi=00:su=37;41:sg=30;43:ca=30;41:tw=30;42:ow=34;42:st=37;44:ex=01;32:*.tar=01;31:*.tgz=01;31:*.arc=01;31:*.arj=01;31:*.taz=01;31:*.lha=01;31:*.lz4=01;31:*.lzh=01;31:*.lzma=01;31:*.tlz=01;31:*.txz=01;31:*.tzo=01;31:*.t7z=01;31:*.zip=01;31:*.z=01;31:*.dz=01;31:*.gz=01;31:*.lrz=01;31:*.lz=01;31:*.lzo=01;31:*.xz=01;31:*.zst=01;31:*.tzst=01;31:*.bz2=01;31:*.bz=01;31:*.tbz=01;31:*.tbz2=01;31:*.tz=01;31:*.deb=01;31:*.rpm=01;31:*.jar=01;31:*.war=01;31:*.ear=01;31:*.sar=01;31:*.rar=01;31:*.alz=01;31:*.ace=01;31:*.zoo=01;31:*.cpio=01;31:*.7z=01;31:*.rz=01;31:*.cab=01;31:*.wim=01;31:*.swm=01;31:*.dwm=01;31:*.esd=01;31:*.jpg=01;35:*.jpeg=01;35:*.mjpg=01;35:*.mjpeg=01;35:*.gif=01;35:*.bmp=01;35:*.pbm=01;35:*.pgm=01;35:*.ppm=01;35:*.tga=01;35:*.xbm=01;35:*.xpm=01;35:*.tif=01;35:*.tiff=01;35:*.png=01;35:*.svg=01;35:*.svgz=01;35:*.mng=01;35:*.pcx=01;35:*.mov=01;35:*.mpg=01;35:*.mpeg=01;35:*.m2v=01;35:*.mkv=01;35:*.webm=01;35:*.ogm=01;35:*.mp4=01;35:*.m4v=01;35:*.mp4v=01;35:*.vob=01;35:*.qt=01;35:*.nuv=01;35:*.wmv=01;35:*.asf=01;35:*.rm=01;35:*.rmvb=01;35:*.flc=01;35:*.avi=01;35:*.fli=01;35:*.flv=01;35:*.gl=01;35:*.dl=01;35:*.xcf=01;35:*.xwd=01;35:*.yuv=01;35:*.cgm=01;35:*.emf=01;35:*.ogv=01;35:*.ogx=01;35:*.aac=00;36:*.au=00;36:*.flac=00;36:*.m4a=00;36:*.mid=00;36:*.midi=00;36:*.mka=00;36:*.mp3=00;36:*.mpc=00;36:*.ogg=00;36:*.ra=00;36:*.wav=00;36:*.oga=00;36:*.opus=00;36:*.spx=00;36:*.xspf=00;36:', 'XDG_CURRENT_DESKTOP': 'ubuntu:GNOME', 'VIRTUAL_ENV': '/home/rohit/.venvPython/pv8dockerusecase2', 'VTE_VERSION': '6003', 'GNOME_TERMINAL_SCREEN': '/org/gnome/Terminal/screen/a2c8fd3b_0b64_4167_9893_546fdcce767b', 'INVOCATION_ID': '96b4ecfb85fd4ffa9f6ae0c646a641eb', 'MANAGERPID': '3456', 'GJS_DEBUG_OUTPUT': 'stderr', 'LESSCLOSE': '/usr/bin/lesspipe %s %s', 'XDG_SESSION_CLASS': 'user', 'TERM': 'xterm-color', 'LC_IDENTIFICATION': 'de_DE.UTF-8', '_CE_CONDA': '', 'LESSOPEN': '| /usr/bin/lesspipe %s', 'USER': 'rohit', 'GNOME_TERMINAL_SERVICE': ':1.87', 'CONDA_SHLVL': '0', 'DISPLAY': ':1', 'SHLVL': '1', 'LC_TELEPHONE': 'de_DE.UTF-8', 'QT_IM_MODULE': 'ibus', 'LC_MEASUREMENT': 'de_DE.UTF-8', 'CONDA_PYTHON_EXE': '/home/rohit/anaconda3/bin/python', 'XDG_RUNTIME_DIR': '/run/user/1000', 'PS1': '(pv8dockerusecase2) \\\\[\\\\e]0;\\\\u@\\\\h: \\\\w\\\\a\\\\]${debian_chroot:+($debian_chroot)}\\\\[\\\\033[01;32m\\\\]\\\\u@\\\\h\\\\[\\\\033[00m\\\\]:\\\\[\\\\033[01;34m\\\\]\\\\w\\\\[\\\\033[00m\\\\]\\\\$ ', 'LC_TIME': 'de_DE.UTF-8', 'JOURNAL_STREAM': '9:50759', 'XDG_DATA_DIRS': '/usr/share/ubuntu:/home/rohit/.local/share/flatpak/exports/share:/var/lib/flatpak/exports/share:/usr/local/share/:/usr/share/:/var/lib/snapd/desktop', 'PATH': '/home/rohit/.venvPython/pv8dockerusecase2/bin:/home/rohit/anaconda3/condabin:/home/rohit/.local/bin:/usr/local/sbin:/usr/local/bin:/usr/sbin:/usr/bin:/sbin:/bin:/usr/games:/usr/local/games:/snap/bin', 'GDMSESSION': 'ubuntu', 'DBUS_SESSION_BUS_ADDRESS': 'unix:path=/run/user/1000/bus', 'LC_NUMERIC': 'de_DE.UTF-8', 'OLDPWD': '/home/rohit/PyWDUbuntu/generic/WineReviewsGraphing', '_': '/home/rohit/.venvPython/pv8dockerusecase2/bin/jupyter', 'JPY_PARENT_PID': '18954', 'CLICOLOR': '1', 'PAGER': 'cat', 'GIT_PAGER': 'cat', 'MPLBACKEND': 'module://matplotlib_inline.backend_inline'}))"
      ]
     },
     "execution_count": 5,
     "metadata": {},
     "output_type": "execute_result"
    }
   ],
   "source": [
    "os.environ.keys()"
   ]
  },
  {
   "cell_type": "code",
   "execution_count": 10,
   "id": "c7f4dd5f",
   "metadata": {},
   "outputs": [
    {
     "name": "stdout",
     "output_type": "stream",
     "text": [
      "<class 'str'> /home/rohit\n"
     ]
    }
   ],
   "source": [
    "myvar = None\n",
    "myvar = os.environ.get('HOME', \"no\")\n",
    "print(type(myvar), myvar)"
   ]
  },
  {
   "cell_type": "code",
   "execution_count": 11,
   "id": "c05faab7",
   "metadata": {},
   "outputs": [
    {
     "name": "stdout",
     "output_type": "stream",
     "text": [
      "<class 'str'> no\n"
     ]
    }
   ],
   "source": [
    "myvar = None\n",
    "myvar = os.environ.get('HOM', \"no\")\n",
    "print(type(myvar), myvar)"
   ]
  },
  {
   "cell_type": "code",
   "execution_count": 12,
   "id": "7d804e12",
   "metadata": {},
   "outputs": [
    {
     "name": "stdout",
     "output_type": "stream",
     "text": [
      "False\n"
     ]
    }
   ],
   "source": [
    "myvar = None\n",
    "myvar = os.environ.get('AM_I_IN_A_DOCKER_CONTAINER', \"no\")\n",
    "print(myvar)"
   ]
  },
  {
   "cell_type": "code",
   "execution_count": 2,
   "id": "16b2344e",
   "metadata": {},
   "outputs": [
    {
     "name": "stdout",
     "output_type": "stream",
     "text": [
      "bolt://myneo4j410-mycont:7687\n"
     ]
    }
   ],
   "source": [
    "neo_cont_name = \"myneo4j410-mycont\"\n",
    "gph_uri = \"\".join([\"bolt://\", neo_cont_name, \":7687\"])\n",
    "print(gph_uri)"
   ]
  }
 ],
 "metadata": {
  "kernelspec": {
   "display_name": "Python 3 (ipykernel)",
   "language": "python",
   "name": "python3"
  },
  "language_info": {
   "codemirror_mode": {
    "name": "ipython",
    "version": 3
   },
   "file_extension": ".py",
   "mimetype": "text/x-python",
   "name": "python",
   "nbconvert_exporter": "python",
   "pygments_lexer": "ipython3",
   "version": "3.8.10"
  }
 },
 "nbformat": 4,
 "nbformat_minor": 5
}
