{
 "cells": [
  {
   "cell_type": "code",
   "execution_count": 3,
   "id": "f9b95343",
   "metadata": {},
   "outputs": [],
   "source": [
    "import os"
   ]
  },
  {
   "cell_type": "code",
   "execution_count": 8,
   "id": "265bc28e",
   "metadata": {},
   "outputs": [
    {
     "name": "stdout",
     "output_type": "stream",
     "text": [
      "/home/rohit/PyWDUbuntu/generic/dockerUseCase2/code\n"
     ]
    }
   ],
   "source": [
    "HOME = os.getcwd()\n",
    "print(HOME)"
   ]
  },
  {
   "cell_type": "code",
   "execution_count": 18,
   "id": "7592d4d3",
   "metadata": {},
   "outputs": [
    {
     "name": "stdout",
     "output_type": "stream",
     "text": [
      "/home/rohit/PyWDUbuntu/generic/dockerUseCase2/code/inData/\n"
     ]
    }
   ],
   "source": [
    "OUT_DIR = os.path.join(HOME, 'inData') + r'/'\n",
    "print(OUT_DIR)\n",
    "#if os.path.exists(HOME + r)"
   ]
  },
  {
   "cell_type": "code",
   "execution_count": 23,
   "id": "de260cc4",
   "metadata": {},
   "outputs": [
    {
     "name": "stdout",
     "output_type": "stream",
     "text": [
      "Dir does not exist...creating it.\n",
      "Dir created.\n"
     ]
    }
   ],
   "source": [
    "if not os.path.exists(OUT_DIR):\n",
    "    print(f\"Dir does not exist...creating it.\")\n",
    "    os.mkdir(OUT_DIR)\n",
    "    print(f\"Dir created.\")\n",
    "else:\n",
    "    print(f\"Dir already exists.\")"
   ]
  },
  {
   "cell_type": "code",
   "execution_count": null,
   "id": "161f7998",
   "metadata": {},
   "outputs": [],
   "source": []
  },
  {
   "cell_type": "code",
   "execution_count": 1,
   "id": "633dc783",
   "metadata": {},
   "outputs": [
    {
     "name": "stdout",
     "output_type": "stream",
     "text": [
      "['wood', 'oak', 'spices', 'spice', 'pepper', 'blackberry', 'hicoky', 'cigar', 'menthol', 'smoky', 'forest', 'raspberry', 'berry', 'berries', 'currant', 'currants', 'licorice', 'coconut', 'leather', 'coconut', 'plum', 'chocolate', 'orange', 'honey', 'gooseberry', 'fruit', 'fruity', 'strawberry', 'cherry', 'oily', 'coffee', 'expresso', 'cranberry', 'pineapple', 'tangerine', 'testflavor1', 'testflavor2', 'testflavor3', 'testflavor4', '']\n"
     ]
    }
   ],
   "source": [
    "abc = 'wood,oak,spices,spice,pepper,blackberry,hicoky,cigar,menthol,smoky,forest,raspberry,berry,berries,currant,currants,licorice,coconut,leather,coconut,plum,chocolate,orange,honey,gooseberry,fruit,fruity,strawberry,cherry,oily,coffee,expresso,cranberry,pineapple,tangerine,testflavor1,testflavor2,testflavor3,testflavor4,'\n",
    "abc = abc.split(',')\n",
    "print(abc)"
   ]
  },
  {
   "cell_type": "code",
   "execution_count": null,
   "id": "b67e044f",
   "metadata": {},
   "outputs": [],
   "source": []
  },
  {
   "cell_type": "code",
   "execution_count": 4,
   "id": "7fba4fe5",
   "metadata": {},
   "outputs": [],
   "source": [
    "HOME = os.getcwd()\n",
    "IP_DIR = os.path.join(HOME, 'inData') + r'/' ## where the individual files have already been saved\n",
    "OUT_DIR = os.path.join(HOME, 'temp') + r'/' ## "
   ]
  },
  {
   "cell_type": "code",
   "execution_count": 8,
   "id": "e38b6837",
   "metadata": {},
   "outputs": [],
   "source": [
    "IP_DIR = OUT_DIR"
   ]
  },
  {
   "cell_type": "code",
   "execution_count": 9,
   "id": "cac04510",
   "metadata": {},
   "outputs": [
    {
     "name": "stdout",
     "output_type": "stream",
     "text": [
      "Input dir found, with num_inp_files = 0\n"
     ]
    },
    {
     "ename": "AssertionError",
     "evalue": "No input files to process",
     "output_type": "error",
     "traceback": [
      "\u001b[0;31m---------------------------------------------------------------------------\u001b[0m",
      "\u001b[0;31mAssertionError\u001b[0m                            Traceback (most recent call last)",
      "\u001b[0;32m/tmp/ipykernel_102217/3047891669.py\u001b[0m in \u001b[0;36m<module>\u001b[0;34m\u001b[0m\n\u001b[1;32m      8\u001b[0m     \u001b[0mnum_inp_files\u001b[0m \u001b[0;34m=\u001b[0m \u001b[0mlen\u001b[0m\u001b[0;34m(\u001b[0m\u001b[0mos\u001b[0m\u001b[0;34m.\u001b[0m\u001b[0mlistdir\u001b[0m\u001b[0;34m(\u001b[0m\u001b[0mIP_DIR\u001b[0m\u001b[0;34m)\u001b[0m\u001b[0;34m)\u001b[0m\u001b[0;34m\u001b[0m\u001b[0;34m\u001b[0m\u001b[0m\n\u001b[1;32m      9\u001b[0m     \u001b[0mprint\u001b[0m\u001b[0;34m(\u001b[0m\u001b[0;34mf\"Input dir found, with num_inp_files = {num_inp_files}\"\u001b[0m\u001b[0;34m)\u001b[0m\u001b[0;34m\u001b[0m\u001b[0;34m\u001b[0m\u001b[0m\n\u001b[0;32m---> 10\u001b[0;31m     \u001b[0;32massert\u001b[0m \u001b[0mnum_inp_files\u001b[0m\u001b[0;34m>\u001b[0m\u001b[0;36m0\u001b[0m\u001b[0;34m,\u001b[0m \u001b[0;34mf\"No input files to process\"\u001b[0m\u001b[0;34m\u001b[0m\u001b[0;34m\u001b[0m\u001b[0m\n\u001b[0m",
      "\u001b[0;31mAssertionError\u001b[0m: No input files to process"
     ]
    }
   ],
   "source": [
    "if not os.path.exists(IP_DIR):\n",
    "    myStr = \"\\n\".join([\n",
    "        f\"\\nFATAL ERROR: Input folder not found: {IP_DIR}\",\n",
    "        f\"EXITING with error code 50\\n\",\n",
    "        ])\n",
    "    print(myStr)\n",
    "else:\n",
    "    num_inp_files = len(os.listdir(IP_DIR))\n",
    "    print(f\"Input dir found, with num_inp_files = {num_inp_files}\")\n",
    "    assert num_inp_files>0, f\"No input files to process\""
   ]
  },
  {
   "cell_type": "code",
   "execution_count": null,
   "id": "353ef60a",
   "metadata": {},
   "outputs": [],
   "source": []
  },
  {
   "cell_type": "markdown",
   "id": "eb16797f",
   "metadata": {},
   "source": [
    "### Testing get review node raw text highest number"
   ]
  },
  {
   "cell_type": "code",
   "execution_count": 1,
   "id": "4db0211d",
   "metadata": {},
   "outputs": [],
   "source": [
    "from py2neo import Graph"
   ]
  },
  {
   "cell_type": "code",
   "execution_count": 2,
   "id": "8ada6c24",
   "metadata": {},
   "outputs": [],
   "source": [
    "def make_neo4j_connection():\n",
    "    \"\"\"\n",
    "    Establish connection to Neo4j and return graph object\n",
    "    \"\"\"\n",
    "    try:\n",
    "        gph = Graph(uri=\"bolt://localhost:7687\",auth=(\"neo4j\",\"abc\"))\n",
    "    except Exception as error_msg_neo_connect:\n",
    "        myStr = \"\\n\".join([\n",
    "            f\"\\nFATAL ERROR: Could not establish connnection to neo4j.\",\n",
    "            f\"Error message :: {error_msg_neo_connect}\",\n",
    "            f\"EXITING with error code 9050\",\n",
    "            ])\n",
    "        my_print_and_log(myStr, \"error\")\n",
    "        exit(9050)\n",
    "    return gph"
   ]
  },
  {
   "cell_type": "code",
   "execution_count": 21,
   "id": "97dbfae9",
   "metadata": {},
   "outputs": [],
   "source": [
    "stmt20_get_raw_text_review_node = r\"MATCH (rn1:Review) WHERE rn1.name STARTS WITH 'f' RETURN rn1.name ORDER BY rn1.name DESC LIMIT 1\""
   ]
  },
  {
   "cell_type": "code",
   "execution_count": 4,
   "id": "3b39ea13",
   "metadata": {},
   "outputs": [],
   "source": [
    "graph = make_neo4j_connection()"
   ]
  },
  {
   "cell_type": "code",
   "execution_count": 7,
   "id": "05fd39f3",
   "metadata": {},
   "outputs": [
    {
     "data": {
      "text/plain": [
       "Graph('bolt://neo4j@localhost:7687', name='neo4j')"
      ]
     },
     "execution_count": 7,
     "metadata": {},
     "output_type": "execute_result"
    }
   ],
   "source": [
    "graph"
   ]
  },
  {
   "cell_type": "code",
   "execution_count": 25,
   "id": "47fbe362",
   "metadata": {},
   "outputs": [
    {
     "name": "stdout",
     "output_type": "stream",
     "text": [
      "\n",
      "1type = <class 'py2neo.database.work.Cursor'>\n",
      "query_ans =\n",
      " rn1.name \r\n",
      "----------\r\n",
      " f0025    \r\n",
      "\n",
      "\n",
      "Query to get raw text review node complete...\n",
      "\n",
      "\n",
      "2type = <class 'list'>\n",
      "query_ans =\n",
      "[Record({'rn1.name': 'f0025'})]\n",
      "\n",
      "6type = <class 'int'>\n",
      "query_ans =\n",
      "25\n"
     ]
    }
   ],
   "source": [
    "query_ans = None\n",
    "try:\n",
    "    tx = graph.begin()\n",
    "    query_ans = tx.run(stmt20_get_raw_text_review_node, parameters={})\n",
    "    print(f\"\\n1type = {type(query_ans)}\")\n",
    "    print(f\"query_ans =\\n{query_ans}\")\n",
    "    tx.commit()\n",
    "    while not tx.finished():\n",
    "        pass # tx.finished return True if the commit is complete\n",
    "    print(f\"\\nQuery to get raw text review node complete...\\n\")\n",
    "    query_ans = list(query_ans)\n",
    "    print(f\"\\n2type = {type(query_ans)}\")\n",
    "    print(f\"query_ans =\\n{query_ans}\")\n",
    "    if query_ans:\n",
    "        query_ans = query_ans[0]['rn1.name']\n",
    "        query_ans = int(query_ans[1:])\n",
    "    else:\n",
    "        query_ans = None\n",
    "    print(f\"\\n6type = {type(query_ans)}\")\n",
    "    print(f\"query_ans =\\n{query_ans}\")\n",
    "except Exception as neo_get_raw_text_review_error:\n",
    "    myStr = \"\\n\".join([\n",
    "        f\"\\nFATAL ERROR: Problem reading neo4j.\",\n",
    "        f\"Error message :: {neo_get_raw_text_review_error}\",\n",
    "        f\"EXITING with error code 130\",\n",
    "        ])\n",
    "    print(myStr)\n",
    "    #exit(120)"
   ]
  },
  {
   "cell_type": "code",
   "execution_count": 35,
   "id": "0d6f5570",
   "metadata": {},
   "outputs": [
    {
     "name": "stdout",
     "output_type": "stream",
     "text": [
      "r0026\n"
     ]
    }
   ],
   "source": [
    "#new_node_name = query_ans\n",
    "new_node_name = 'r' + f\"{query_ans+1:04d}\"\n",
    "print(new_node_name)"
   ]
  },
  {
   "cell_type": "code",
   "execution_count": null,
   "id": "a0e356be",
   "metadata": {},
   "outputs": [],
   "source": []
  },
  {
   "cell_type": "code",
   "execution_count": null,
   "id": "e53b3f8b",
   "metadata": {},
   "outputs": [],
   "source": []
  },
  {
   "cell_type": "code",
   "execution_count": null,
   "id": "1b299f1b",
   "metadata": {},
   "outputs": [],
   "source": []
  },
  {
   "cell_type": "code",
   "execution_count": 10,
   "id": "20610e63",
   "metadata": {},
   "outputs": [],
   "source": [
    "from py2neo import Graph"
   ]
  },
  {
   "cell_type": "code",
   "execution_count": 11,
   "id": "72f56988",
   "metadata": {},
   "outputs": [],
   "source": [
    "def make_neo4j_connection():\n",
    "    \"\"\"\n",
    "    Establish connection to Neo4j and return graph object\n",
    "    \"\"\"\n",
    "    try:\n",
    "        gph = Graph(uri=\"bolt://localhost:7687\",auth=(\"neo4j\",\"abc\"))\n",
    "    except Exception as error_msg_neo_connect:\n",
    "        myStr = \"\\n\".join([\n",
    "            f\"\\nFATAL ERROR: Could not establish connnection to neo4j.\",\n",
    "            f\"Error message :: {error_msg_neo_connect}\",\n",
    "            f\"EXITING with error code 9050\",\n",
    "            ])\n",
    "        my_print_and_log(myStr, \"error\")\n",
    "        exit(9050)\n",
    "    return gph"
   ]
  },
  {
   "cell_type": "code",
   "execution_count": 12,
   "id": "ea30ddb7",
   "metadata": {},
   "outputs": [],
   "source": [
    "stmt0_clear_graph = r'MATCH (n) DETACH DELETE n'\n",
    "stmt3_flav_node = r'MERGE (:Flavor {name: $_in_flav_name})'"
   ]
  },
  {
   "cell_type": "code",
   "execution_count": 13,
   "id": "6bb3e994",
   "metadata": {},
   "outputs": [],
   "source": [
    "neo_entry = dict()\n",
    "neo_entry['Flavors'] = ['flav1', 'flav2']"
   ]
  },
  {
   "cell_type": "code",
   "execution_count": 14,
   "id": "23e09572",
   "metadata": {},
   "outputs": [
    {
     "name": "stdout",
     "output_type": "stream",
     "text": [
      "flav1\n",
      "flav2\n"
     ]
    }
   ],
   "source": [
    "for idx3, flav in enumerate(neo_entry['Flavors']):\n",
    "    print(flav)"
   ]
  },
  {
   "cell_type": "code",
   "execution_count": 15,
   "id": "26d82cd5",
   "metadata": {},
   "outputs": [],
   "source": [
    "graph = make_neo4j_connection()"
   ]
  },
  {
   "cell_type": "code",
   "execution_count": 16,
   "id": "7f6d951c",
   "metadata": {},
   "outputs": [
    {
     "data": {
      "text/plain": [
       "Graph('bolt://neo4j@localhost:7687', name='neo4j')"
      ]
     },
     "execution_count": 16,
     "metadata": {},
     "output_type": "execute_result"
    }
   ],
   "source": [
    "graph"
   ]
  },
  {
   "cell_type": "code",
   "execution_count": 22,
   "id": "d280468e",
   "metadata": {},
   "outputs": [
    {
     "name": "stdout",
     "output_type": "stream",
     "text": [
      "\n",
      "Attempting clearing graph...\n",
      "\n",
      "Cleared the graph\n",
      "\n",
      "Added flavors\n",
      "\n",
      "\n",
      "Done\n"
     ]
    }
   ],
   "source": [
    "try:\n",
    "    tx = graph.begin()\n",
    "    print(f\"\\nAttempting clearing graph...\")\n",
    "    tx.run(stmt0_clear_graph, parameters={})\n",
    "    tx.commit()\n",
    "    while not tx.finished():\n",
    "        pass # tx.finished return True if the commit is complete\n",
    "    print(f\"\\nCleared the graph\")\n",
    "    \n",
    "    # create flavor note if not already existing\n",
    "    tx = graph.begin()\n",
    "    for idx3, flav in enumerate(neo_entry['Flavors']):\n",
    "        tx.run(stmt3_flav_node, parameters={\n",
    "            '_in_flav_name': flav,\n",
    "            })\n",
    "    tx.commit()\n",
    "    while not tx.finished():\n",
    "        pass # tx.finished return True if the commit is complete\n",
    "    print(f\"\\nAdded flavors\")\n",
    "except Exception as neo_update_error:\n",
    "    myStr = \"\\n\".join([\n",
    "        f\"\\nFATAL ERROR: Problem updating neo4j.\",\n",
    "        f\"Error message :: {neo_update_error}\",\n",
    "        f\"EXITING with error code 80\",\n",
    "        ])\n",
    "    print(f\"{myStr}\")\n",
    "print(f\"\\n\\nDone\")"
   ]
  },
  {
   "cell_type": "code",
   "execution_count": null,
   "id": "aa02b790",
   "metadata": {},
   "outputs": [],
   "source": []
  },
  {
   "cell_type": "code",
   "execution_count": 27,
   "id": "337c8e59",
   "metadata": {},
   "outputs": [
    {
     "name": "stdout",
     "output_type": "stream",
     "text": [
      "\n",
      "FATAL ERROR: Invalid value for 'upload_neo_limit' parameter:: 100\n",
      "Only 10 files present in input folder /home/rohit/PyWDUbuntu/generic/dockerUseCase2/code/temp/\n",
      "enter a number from 1 to 10\n",
      "EXITING with error code 40\n",
      "\n"
     ]
    }
   ],
   "source": [
    "num_inp_files = 10\n",
    "LIMIT_UPLOAD_TO_NEO = 100\n",
    "if not (0 < LIMIT_UPLOAD_TO_NEO <= num_inp_files):\n",
    "    myStr = \"\\n\".join([\n",
    "        f\"\\nFATAL ERROR: Invalid value for 'upload_neo_limit' parameter:: {LIMIT_UPLOAD_TO_NEO}\",\n",
    "        f\"Only {num_inp_files} files present in input folder {IP_DIR}\",\n",
    "        f\"enter a number from 1 to {num_inp_files}\",\n",
    "        f\"EXITING with error code 40\\n\",\n",
    "        ])\n",
    "    print(myStr)"
   ]
  },
  {
   "cell_type": "code",
   "execution_count": null,
   "id": "fe029c0f",
   "metadata": {},
   "outputs": [],
   "source": []
  },
  {
   "cell_type": "code",
   "execution_count": 13,
   "id": "bfd067f4",
   "metadata": {},
   "outputs": [],
   "source": [
    "import numpy as np\n",
    "from tqdm import tqdm\n",
    "import time"
   ]
  },
  {
   "cell_type": "code",
   "execution_count": 14,
   "id": "d082027f",
   "metadata": {},
   "outputs": [
    {
     "data": {
      "text/plain": [
       "[10, 13, 14, 18, 15, 18, 10, 18, 19, 15]"
      ]
     },
     "execution_count": 14,
     "metadata": {},
     "output_type": "execute_result"
    }
   ],
   "source": [
    "data = [np.random.randint(10, 20) for i in range(10)]\n",
    "data"
   ]
  },
  {
   "cell_type": "code",
   "execution_count": 26,
   "id": "dd8ce4c5",
   "metadata": {},
   "outputs": [
    {
     "data": {
      "text/plain": [
       "150"
      ]
     },
     "execution_count": 26,
     "metadata": {},
     "output_type": "execute_result"
    }
   ],
   "source": [
    "try:\n",
    "    del sum\n",
    "except Exception as e:\n",
    "    pass\n",
    "sum(data)"
   ]
  },
  {
   "cell_type": "code",
   "execution_count": 27,
   "id": "281a147f",
   "metadata": {},
   "outputs": [
    {
     "name": "stderr",
     "output_type": "stream",
     "text": [
      "Processed: 100%|███████████████████████████████████████████████████████████████████████████████████████████████████████████████████████████████████████████████████████████████████| 10/10 [00:02<00:00,  3.96it/s]\n"
     ]
    }
   ],
   "source": [
    "n_data = len(data)\n",
    "for i in tqdm(range(n_data), desc='Processed'):\n",
    "    time.sleep(0.25)"
   ]
  },
  {
   "cell_type": "code",
   "execution_count": 29,
   "id": "2e749cb3",
   "metadata": {},
   "outputs": [
    {
     "name": "stderr",
     "output_type": "stream",
     "text": [
      "100%|██████████████████████████████████████████████████████████████████████████████████████████████████████████████████████████████████████████████████████████████████████████████| 10/10 [00:02<00:00,  3.96it/s]\n"
     ]
    }
   ],
   "source": [
    "n_data = len(data)\n",
    "for i in tqdm(range(n_data)):\n",
    "    time.sleep(0.25)"
   ]
  },
  {
   "cell_type": "code",
   "execution_count": 30,
   "id": "76c45d66",
   "metadata": {},
   "outputs": [
    {
     "name": "stderr",
     "output_type": "stream",
     "text": [
      "Processed: 100%|███████████████████████████████████████████████████████████████████████████████████████████████████████████████████████████████████████████████████████████████████| 10/10 [00:02<00:00,  3.96it/s]"
     ]
    },
    {
     "name": "stdout",
     "output_type": "stream",
     "text": [
      "\n",
      "total = 45\n"
     ]
    },
    {
     "name": "stderr",
     "output_type": "stream",
     "text": [
      "\n"
     ]
    }
   ],
   "source": [
    "n_data = len(data)\n",
    "ans = 0\n",
    "for idx, d in enumerate(tqdm(range(n_data), desc='Processed')):\n",
    "    time.sleep(0.25)\n",
    "    ans += d\n",
    "print(f\"\\ntotal = {ans}\")"
   ]
  },
  {
   "cell_type": "code",
   "execution_count": 31,
   "id": "197f68dd",
   "metadata": {},
   "outputs": [
    {
     "name": "stderr",
     "output_type": "stream",
     "text": [
      "Processed: 100%|███████████████████████████████████████████████████████████████████████████████████████████████████████████████████████████████████████████████████████████████████| 10/10 [00:02<00:00,  3.96it/s]"
     ]
    },
    {
     "name": "stdout",
     "output_type": "stream",
     "text": [
      "\n",
      "total = 150\n"
     ]
    },
    {
     "name": "stderr",
     "output_type": "stream",
     "text": [
      "\n"
     ]
    }
   ],
   "source": [
    "n_data = len(data)\n",
    "ans = 0\n",
    "for idx, d in enumerate(tqdm(data, desc='Processed')):\n",
    "    time.sleep(0.25)\n",
    "    ans += d\n",
    "print(f\"\\ntotal = {ans}\")"
   ]
  },
  {
   "cell_type": "code",
   "execution_count": null,
   "id": "6284d4a0",
   "metadata": {},
   "outputs": [],
   "source": []
  },
  {
   "cell_type": "code",
   "execution_count": 32,
   "id": "93e15165",
   "metadata": {},
   "outputs": [],
   "source": [
    "def f1(_in=False):\n",
    "    if _in:\n",
    "        return 100, None\n",
    "    else:\n",
    "        return 0, 'No Error'"
   ]
  },
  {
   "cell_type": "code",
   "execution_count": 34,
   "id": "8ce6e93c",
   "metadata": {},
   "outputs": [
    {
     "name": "stdout",
     "output_type": "stream",
     "text": [
      "0 No Error\n",
      "100 None\n"
     ]
    }
   ],
   "source": [
    "v1, v2 = f1()\n",
    "print(v1, v2)\n",
    "v1, v2 = f1(_in=True)\n",
    "print(v1, v2)"
   ]
  },
  {
   "cell_type": "code",
   "execution_count": 35,
   "id": "159effa7",
   "metadata": {},
   "outputs": [
    {
     "name": "stdout",
     "output_type": "stream",
     "text": [
      "0\n",
      "100\n"
     ]
    }
   ],
   "source": [
    "v1, _ = f1()\n",
    "print(v1)\n",
    "v1, _ = f1(_in=True)\n",
    "print(v1)"
   ]
  },
  {
   "cell_type": "code",
   "execution_count": null,
   "id": "66833f7f",
   "metadata": {},
   "outputs": [],
   "source": []
  },
  {
   "cell_type": "markdown",
   "id": "56d12a43",
   "metadata": {},
   "source": [
    "## testing with container graph"
   ]
  },
  {
   "cell_type": "code",
   "execution_count": 1,
   "id": "b90baa67",
   "metadata": {},
   "outputs": [],
   "source": [
    "from py2neo import Graph"
   ]
  },
  {
   "cell_type": "code",
   "execution_count": 34,
   "id": "bf236bc8",
   "metadata": {},
   "outputs": [],
   "source": [
    "## for container\n",
    "def make_neo4j_connection_local():\n",
    "    \"\"\"\n",
    "    Establish connection to Neo4j and return graph object\n",
    "    \"\"\"\n",
    "    gph = None\n",
    "    try:\n",
    "        #failed- neo4j stopped - [Errno 111] Connection refused\n",
    "        #success- neo4j started - Graph('bolt://neo4j@localhost:7687', name='neo4j')\n",
    "        #gph = Graph(uri=\"bolt://localhost:7687\",auth=(\"neo4j\",\"abc\")) # works- Graph('bolt://neo4j@localhost:7687', name='neo4j')\n",
    "\n",
    "        #failed- neo4j stopped - Network read incomplete (received 0 of 2 bytes)\n",
    "        #success- neo4j started - Graph('bolt://neo4j@localhost:7687', name='neo4j')\n",
    "        #gph = Graph(uri=\"http://localhost:7474\",auth=(\"neo4j\",\"abc\")) # works- Graph('bolt://neo4j@localhost:7687', name='neo4j')\n",
    "        \n",
    "        #failed- neo4j stopped - Network read incomplete (received 0 of 2 bytes)\n",
    "        #success- neo4j started - Graph('bolt://neo4j@localhost:7687', name='neo4j')\n",
    "        #gph = Graph(uri=\"bolt://localhost:7474\",auth=(\"neo4j\",\"abc\")) # works- Graph('bolt://neo4j@localhost:7687', name='neo4j')\n",
    "    except Exception as error_msg_neo_connect:\n",
    "        print(f\"Error message: {error_msg_neo_connect}\")\n",
    "    return gph"
   ]
  },
  {
   "cell_type": "code",
   "execution_count": 35,
   "id": "efac8f81",
   "metadata": {},
   "outputs": [
    {
     "name": "stdout",
     "output_type": "stream",
     "text": [
      "Error message: Network read incomplete (received 0 of 2 bytes)\n",
      "None\n"
     ]
    }
   ],
   "source": [
    "print(make_neo4j_connection_local())"
   ]
  },
  {
   "cell_type": "code",
   "execution_count": 22,
   "id": "160674e3",
   "metadata": {},
   "outputs": [],
   "source": [
    "## for container which was started as below\n",
    "## docker run --env NEO4J_AUTH=neo4j/cba -p 8901:7474 neo4j:4.1.0\n",
    "def make_neo4j_connection_container():\n",
    "    \"\"\"\n",
    "    Establish connection to Neo4j and return graph object\n",
    "    \"\"\"\n",
    "    gph = None\n",
    "    try:\n",
    "        #failed- neo4j stopped - [Security.Unauthorized] The client is unauthorized due to authentication failure.\n",
    "        #failed- neo4j started - [Errno 111] Connection refused\n",
    "        gph = Graph(uri=\"bolt://localhost:7687\",auth=(\"neo4j\",\"cba\")) \n",
    "        #failed - neo4j started - [Security.Unauthorized] The client is unauthorized due to authentication failure.\n",
    "        #failed - neo4j stopped - [Errno 111] Connection refused\n",
    "        #gph = Graph(uri=\"bolt://localhost:8901\",auth=(\"neo4j\",\"cba\"))\n",
    "    except Exception as error_msg_neo_connect:\n",
    "        print(f\"Error message: {error_msg_neo_connect}\")\n",
    "    return gph"
   ]
  },
  {
   "cell_type": "code",
   "execution_count": 23,
   "id": "11c920cb",
   "metadata": {
    "scrolled": false
   },
   "outputs": [
    {
     "name": "stdout",
     "output_type": "stream",
     "text": [
      "Error message: [Security.Unauthorized] The client is unauthorized due to authentication failure.\n",
      "None\n"
     ]
    }
   ],
   "source": [
    "print(make_neo4j_connection_container())"
   ]
  },
  {
   "cell_type": "code",
   "execution_count": null,
   "id": "e537bd6a",
   "metadata": {},
   "outputs": [],
   "source": []
  },
  {
   "cell_type": "code",
   "execution_count": null,
   "id": "f25ee3e0",
   "metadata": {},
   "outputs": [],
   "source": []
  }
 ],
 "metadata": {
  "kernelspec": {
   "display_name": "Python 3 (ipykernel)",
   "language": "python",
   "name": "python3"
  },
  "language_info": {
   "codemirror_mode": {
    "name": "ipython",
    "version": 3
   },
   "file_extension": ".py",
   "mimetype": "text/x-python",
   "name": "python",
   "nbconvert_exporter": "python",
   "pygments_lexer": "ipython3",
   "version": "3.8.10"
  }
 },
 "nbformat": 4,
 "nbformat_minor": 5
}
